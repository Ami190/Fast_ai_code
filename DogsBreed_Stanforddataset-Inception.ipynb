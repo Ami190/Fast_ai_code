{
 "cells": [
  {
   "cell_type": "markdown",
   "metadata": {},
   "source": [
    "# Dogs Breed Identification Kaggle With Stanford Images"
   ]
  },
  {
   "cell_type": "code",
   "execution_count": 1,
   "metadata": {},
   "outputs": [],
   "source": [
    "# Put these at the top of every notebook, to get automatic reloading and inline plotting\n",
    "%reload_ext autoreload\n",
    "%autoreload 2\n",
    "%matplotlib inline"
   ]
  },
  {
   "cell_type": "code",
   "execution_count": 2,
   "metadata": {},
   "outputs": [],
   "source": [
    "from fastai.imports import *\n",
    "from fastai.torch_imports import *\n",
    "from fastai.transforms import *\n",
    "from fastai.conv_learner import *\n",
    "from fastai.model import *\n",
    "from fastai.sgdr import *\n",
    "from fastai.dataset import *\n",
    "from fastai.plots import *"
   ]
  },
  {
   "cell_type": "markdown",
   "metadata": {},
   "source": [
    "!curl \"http://vision.stanford.edu/aditya86/ImageNetDogs/images.tar\" -H \"Host: vision.stanford.edu\" -H \"User-Agent: Mozilla/5.0 (Windows NT 10.0; WOW64; rv:58.0) Gecko/20100101 Firefox/58.0\" -H \"Accept: text/html,application/xhtml+xml,application/xml;q=0.9,*/*;q=0.8\" -H \"Accept-Language: en-US,en;q=0.5\" --compressed -H \"Referer: http://vision.stanford.edu/aditya86/ImageNetDogs/main.html\" -H \"DNT: 1\" -H \"Connection: keep-alive\" -H \"Upgrade-Insecure-Requests: 1\" -o Stanford_Dog_images.tar"
   ]
  },
  {
   "cell_type": "markdown",
   "metadata": {},
   "source": [
    "!tar xf Stanford_Dog_images.tar fastai/courses/dl1/data/DogBreed/"
   ]
  },
  {
   "cell_type": "code",
   "execution_count": 3,
   "metadata": {},
   "outputs": [],
   "source": [
    "PATH = \"data/DogBreed/Stanford/\""
   ]
  },
  {
   "cell_type": "markdown",
   "metadata": {},
   "source": [
    "!ls"
   ]
  },
  {
   "cell_type": "code",
   "execution_count": 4,
   "metadata": {
    "scrolled": false
   },
   "outputs": [
    {
     "name": "stdout",
     "output_type": "stream",
     "text": [
      "models\t\t       submission_inception_6march.csv\ttmp    valid\r\n",
      "sample_submission.csv  test\t\t\t\ttrain\r\n"
     ]
    }
   ],
   "source": [
    "!ls {PATH} # this arch do not need a valid folder as csv has refrence for all the files that belong to train or valid"
   ]
  },
  {
   "cell_type": "markdown",
   "metadata": {
    "scrolled": false
   },
   "source": [
    "!wget https://www.kaggle.com/c/dog-breed-identification/download/train.zip"
   ]
  },
  {
   "cell_type": "code",
   "execution_count": 5,
   "metadata": {},
   "outputs": [],
   "source": [
    "sz=299"
   ]
  },
  {
   "cell_type": "code",
   "execution_count": 6,
   "metadata": {},
   "outputs": [
    {
     "data": {
      "text/plain": [
       "{'data/DogBreed/Stanford/'}"
      ]
     },
     "execution_count": 6,
     "metadata": {},
     "output_type": "execute_result"
    }
   ],
   "source": [
    "{PATH}"
   ]
  },
  {
   "cell_type": "markdown",
   "metadata": {},
   "source": [
    "label_csv='labels.csv'\n",
    "n = len(list(open(label_csv)))-1\n",
    "val_idxs = get_cv_idxs(n)"
   ]
  },
  {
   "cell_type": "code",
   "execution_count": 7,
   "metadata": {
    "scrolled": true
   },
   "outputs": [],
   "source": [
    "arch = inception_4# Inceptionresnet_2 Arch\n",
    "bs = 20 # why batch size 58 not 20\n",
    "\n",
    "data = ImageClassifierData.from_paths(PATH, tfms=tfms_from_model(arch, sz),test_name ='test')"
   ]
  },
  {
   "cell_type": "code",
   "execution_count": 8,
   "metadata": {},
   "outputs": [],
   "source": [
    "learn = ConvLearner.pretrained(arch, data, precompute=True)"
   ]
  },
  {
   "cell_type": "markdown",
   "metadata": {},
   "source": [
    "!curl \"http://files.fast.ai/models/weights.tgz\" -H \"Host: files.fast.ai\" -H \"User-Agent: Mozilla/5.0 (Windows NT 10.0; WOW64; rv:58.0) Gecko/20100101 Firefox/58.0\" -H \"Accept: text/html,application/xhtml+xml,application/xml;q=0.9,*/*;q=0.8\" -H \"Accept-Language: en-US,en;q=0.5\" --compressed -H \"Referer: http://forums.fast.ai/t/lesson-2-in-class-discussion/7452/317\" -H \"DNT: 1\" -H \"Connection: keep-alive\" -H \"Upgrade-Insecure-Requests: 1\" -o weights.tgz"
   ]
  },
  {
   "cell_type": "markdown",
   "metadata": {},
   "source": [
    "## * UNZZIP ERROR :  To Avoid the unzip error , Extarct files with either 7-zip or other extractor say rar"
   ]
  },
  {
   "cell_type": "code",
   "execution_count": 9,
   "metadata": {},
   "outputs": [
    {
     "data": {
      "application/vnd.jupyter.widget-view+json": {
       "model_id": "7fe65b8f71604c07bb0e4c64e7138fcd",
       "version_major": 2,
       "version_minor": 0
      },
      "text/html": [
       "<p>Failed to display Jupyter Widget of type <code>HBox</code>.</p>\n",
       "<p>\n",
       "  If you're reading this message in the Jupyter Notebook or JupyterLab Notebook, it may mean\n",
       "  that the widgets JavaScript is still loading. If this message persists, it\n",
       "  likely means that the widgets JavaScript library is either not installed or\n",
       "  not enabled. See the <a href=\"https://ipywidgets.readthedocs.io/en/stable/user_install.html\">Jupyter\n",
       "  Widgets Documentation</a> for setup instructions.\n",
       "</p>\n",
       "<p>\n",
       "  If you're reading this message in another frontend (for example, a static\n",
       "  rendering on GitHub or <a href=\"https://nbviewer.jupyter.org/\">NBViewer</a>),\n",
       "  it may mean that your frontend doesn't currently support widgets.\n",
       "</p>\n"
      ],
      "text/plain": [
       "HBox(children=(IntProgress(value=0, description='Epoch', max=1), HTML(value='')))"
      ]
     },
     "metadata": {},
     "output_type": "display_data"
    },
    {
     "name": "stdout",
     "output_type": "stream",
     "text": [
      " 85%|████████▌ | 224/262 [00:03<00:00, 57.77it/s, loss=5.63]\n",
      "                                                            \r"
     ]
    },
    {
     "data": {
      "image/png": "[encoded data removed]",
      "text/plain": [
       "<matplotlib.figure.Figure at 0x7ff8ab4d4668>"
      ]
     },
     "metadata": {},
     "output_type": "display_data"
    }
   ],
   "source": [
    "learn.lr_find()\n",
    "learn.sched.plot()"
   ]
  },
  {
   "cell_type": "markdown",
   "metadata": {},
   "source": [
    "##### Learning rate and EPOC and cycle is crutial here"
   ]
  },
  {
   "cell_type": "code",
   "execution_count": 10,
   "metadata": {},
   "outputs": [
    {
     "data": {
      "application/vnd.jupyter.widget-view+json": {
       "model_id": "9d03fda81f5949e9b2d3c70be5bf190e",
       "version_major": 2,
       "version_minor": 0
      },
      "text/html": [
       "<p>Failed to display Jupyter Widget of type <code>HBox</code>.</p>\n",
       "<p>\n",
       "  If you're reading this message in the Jupyter Notebook or JupyterLab Notebook, it may mean\n",
       "  that the widgets JavaScript is still loading. If this message persists, it\n",
       "  likely means that the widgets JavaScript library is either not installed or\n",
       "  not enabled. See the <a href=\"https://ipywidgets.readthedocs.io/en/stable/user_install.html\">Jupyter\n",
       "  Widgets Documentation</a> for setup instructions.\n",
       "</p>\n",
       "<p>\n",
       "  If you're reading this message in another frontend (for example, a static\n",
       "  rendering on GitHub or <a href=\"https://nbviewer.jupyter.org/\">NBViewer</a>),\n",
       "  it may mean that your frontend doesn't currently support widgets.\n",
       "</p>\n"
      ],
      "text/plain": [
       "HBox(children=(IntProgress(value=0, description='Epoch', max=10), HTML(value='')))"
      ]
     },
     "metadata": {},
     "output_type": "display_data"
    },
    {
     "name": "stdout",
     "output_type": "stream",
     "text": [
      "[0.      0.43193 0.32883 0.91022]                            \n",
      "[1.      0.31903 0.27545 0.92134]                            \n",
      "[2.      0.26459 0.24977 0.93035]                            \n",
      "[3.      0.22559 0.25468 0.93061]                            \n",
      "[4.      0.19607 0.26217 0.92585]                            \n",
      "[5.      0.21264 0.25957 0.92373]                            \n",
      "[6.      0.17686 0.2734  0.92664]                            \n",
      "[7.      0.16111 0.28355 0.92717]                            \n",
      "[8.      0.15709 0.27623 0.92876]                            \n",
      "[9.      0.14394 0.28652 0.92479]                            \n",
      "\n"
     ]
    }
   ],
   "source": [
    "learn.fit(1e-1,10)"
   ]
  },
  {
   "cell_type": "markdown",
   "metadata": {},
   "source": [
    "#### Understanding the results :\n",
    " 1. Column 1 repesents EPOC\n",
    " 2. Column 2 represents Training loss\n",
    " 3. Column 3 represents Validation LOSS\n",
    " 4. Column 4 represents Accuracy"
   ]
  },
  {
   "cell_type": "code",
   "execution_count": 11,
   "metadata": {},
   "outputs": [],
   "source": [
    "#loss incressing acc decreasing \n",
    "learn.save('299 data')"
   ]
  },
  {
   "cell_type": "code",
   "execution_count": 12,
   "metadata": {},
   "outputs": [],
   "source": [
    "learn.load('299 data')"
   ]
  },
  {
   "cell_type": "code",
   "execution_count": 13,
   "metadata": {},
   "outputs": [],
   "source": [
    "data = ImageClassifierData.from_paths(PATH, tfms=tfms_from_model(arch, 224),test_name ='test')\n",
    "learn = ConvLearner.pretrained(arch, data, precompute = False) #Precompute= false is ideal, should be done as this will create new image at each layer as weights are being calculated check"
   ]
  },
  {
   "cell_type": "code",
   "execution_count": null,
   "metadata": {},
   "outputs": [
    {
     "data": {
      "application/vnd.jupyter.widget-view+json": {
       "model_id": "5381391a0bbb41ef91a9d4299d9128dd",
       "version_major": 2,
       "version_minor": 0
      },
      "text/html": [
       "<p>Failed to display Jupyter Widget of type <code>HBox</code>.</p>\n",
       "<p>\n",
       "  If you're reading this message in the Jupyter Notebook or JupyterLab Notebook, it may mean\n",
       "  that the widgets JavaScript is still loading. If this message persists, it\n",
       "  likely means that the widgets JavaScript library is either not installed or\n",
       "  not enabled. See the <a href=\"https://ipywidgets.readthedocs.io/en/stable/user_install.html\">Jupyter\n",
       "  Widgets Documentation</a> for setup instructions.\n",
       "</p>\n",
       "<p>\n",
       "  If you're reading this message in another frontend (for example, a static\n",
       "  rendering on GitHub or <a href=\"https://nbviewer.jupyter.org/\">NBViewer</a>),\n",
       "  it may mean that your frontend doesn't currently support widgets.\n",
       "</p>\n"
      ],
      "text/plain": [
       "HBox(children=(IntProgress(value=0, description='Epoch', max=6), HTML(value='')))"
      ]
     },
     "metadata": {},
     "output_type": "display_data"
    },
    {
     "name": "stdout",
     "output_type": "stream",
     "text": [
      "[0.      0.57614 0.44491 0.87156]                            \n",
      "  4%|▍         | 10/262 [00:09<03:49,  1.10it/s, loss=0.548]"
     ]
    }
   ],
   "source": [
    "learn.fit(1e-1,3, cycle_len = 2)"
   ]
  },
  {
   "cell_type": "code",
   "execution_count": null,
   "metadata": {},
   "outputs": [],
   "source": [
    "learn.save('299_u')\n",
    "learn.load('299_u')"
   ]
  },
  {
   "cell_type": "code",
   "execution_count": null,
   "metadata": {},
   "outputs": [],
   "source": [
    "data = ImageClassifierData.from_paths(PATH, tfms=tfms_from_model(arch, 224),test_name = 'test')\n",
    "learn = ConvLearner.pretrained(arch, data, precompute = True) #Precompute= false is ideal, should be done as this will create new image at each layer as weights are being calculated check\n",
    "learn.fit(.1, 3, cycle_len=1, cycle_mult=2)"
   ]
  },
  {
   "cell_type": "code",
   "execution_count": null,
   "metadata": {},
   "outputs": [],
   "source": [
    "data = ImageClassifierData.from_paths(PATH, tfms=tfms_from_model(arch, 235),test_name ='test')\n",
    "learn = ConvLearner.pretrained(arch, data, precompute = False) #Precompute= false is ideal, should be done as this will create new image at each layer as weights are being calculated check"
   ]
  },
  {
   "cell_type": "code",
   "execution_count": null,
   "metadata": {},
   "outputs": [],
   "source": [
    "learn.fit(.1, 3, cycle_len=4)"
   ]
  },
  {
   "cell_type": "code",
   "execution_count": null,
   "metadata": {},
   "outputs": [],
   "source": [
    "learn.save('Acc_')"
   ]
  },
  {
   "cell_type": "code",
   "execution_count": null,
   "metadata": {},
   "outputs": [],
   "source": [
    "learn.load('Acc_')"
   ]
  },
  {
   "cell_type": "code",
   "execution_count": null,
   "metadata": {},
   "outputs": [],
   "source": [
    "data = ImageClassifierData.from_paths(PATH, tfms=tfms_from_model(arch, 335),test_name ='test')\n",
    "learn = ConvLearner.pretrained(arch, data, precompute = False) #Precompute= false is ideal, should be done as this will create new image at each layer as weights are being calculated check"
   ]
  },
  {
   "cell_type": "code",
   "execution_count": null,
   "metadata": {},
   "outputs": [],
   "source": [
    "learn.fit(.1, 3, cycle_len=9)"
   ]
  },
  {
   "cell_type": "code",
   "execution_count": 23,
   "metadata": {},
   "outputs": [
    {
     "name": "stdout",
     "output_type": "stream",
     "text": [
      "100%|██████████| 59/59 [02:03<00:00,  2.10s/it]\n"
     ]
    },
    {
     "data": {
      "application/vnd.jupyter.widget-view+json": {
       "model_id": "be95816cbfdf48d58db32b83ab2541be",
       "version_major": 2,
       "version_minor": 0
      },
      "text/html": [
       "<p>Failed to display Jupyter Widget of type <code>HBox</code>.</p>\n",
       "<p>\n",
       "  If you're reading this message in the Jupyter Notebook or JupyterLab Notebook, it may mean\n",
       "  that the widgets JavaScript is still loading. If this message persists, it\n",
       "  likely means that the widgets JavaScript library is either not installed or\n",
       "  not enabled. See the <a href=\"https://ipywidgets.readthedocs.io/en/stable/user_install.html\">Jupyter\n",
       "  Widgets Documentation</a> for setup instructions.\n",
       "</p>\n",
       "<p>\n",
       "  If you're reading this message in another frontend (for example, a static\n",
       "  rendering on GitHub or <a href=\"https://nbviewer.jupyter.org/\">NBViewer</a>),\n",
       "  it may mean that your frontend doesn't currently support widgets.\n",
       "</p>\n"
      ],
      "text/plain": [
       "HBox(children=(IntProgress(value=0, description='Epoch', max=39), HTML(value='')))"
      ]
     },
     "metadata": {},
     "output_type": "display_data"
    },
    {
     "name": "stdout",
     "output_type": "stream",
     "text": [
      "[0.      0.41599 0.26488 0.92134]                            \n",
      "[1.      0.22926 0.21747 0.9322 ]                            \n",
      "[2.      0.19352 0.20722 0.93697]                            \n",
      "[3.      0.26055 0.24504 0.9277 ]                            \n",
      "[4.      0.22354 0.25687 0.92691]                            \n",
      "[5.      0.17872 0.24485 0.92346]                            \n",
      "[6.      0.1658  0.23339 0.93061]                            \n",
      "[7.      0.1359  0.2199  0.93671]                            \n",
      "[8.      0.11759 0.22559 0.93459]                            \n",
      "[9.      0.10058 0.21921 0.93697]                             \n",
      "[10.       0.10462  0.22201  0.93724]                         \n",
      "[11.       0.09906  0.22357  0.93803]                         \n",
      "[12.       0.15744  0.25677  0.92744]                        \n",
      "[13.       0.14703  0.2412   0.93776]                        \n",
      "[14.       0.14458  0.26395  0.92929]                        \n",
      "[15.       0.12413  0.25361  0.93194]                        \n",
      "[16.       0.1146   0.27205  0.9322 ]                        \n",
      "[17.       0.11848  0.27201  0.93088]                         \n",
      "[18.       0.09928  0.27626  0.92823]                         \n",
      "[19.       0.111    0.25337  0.93379]                         \n",
      "[20.       0.08828  0.27645  0.92823]                         \n",
      "[21.       0.09272  0.26539  0.93009]                         \n",
      "[22.       0.07797  0.27443  0.93273]                         \n",
      "[23.       0.06815  0.27284  0.93406]                         \n",
      "[24.       0.05926  0.27812  0.933  ]                         \n",
      "[25.       0.06487  0.27379  0.93379]                         \n",
      "[26.       0.04942  0.27363  0.93432]                         \n",
      "[27.       0.04621  0.28433  0.93406]                         \n",
      "[28.       0.04748  0.27885  0.93671]                         \n",
      "[29.       0.04508  0.2827   0.93671]                         \n",
      "[30.       0.0429   0.28459  0.93538]                         \n",
      "[31.       0.04059  0.28189  0.93432]                         \n",
      "[32.       0.03525  0.28941  0.93326]                         \n",
      "[33.       0.02936  0.28479  0.93697]                         \n",
      "[34.       0.03417  0.2881   0.93459]                         \n",
      "[35.       0.03483  0.28519  0.93512]                         \n",
      "[36.       0.03404  0.28148  0.93618]                         \n",
      "[37.       0.02924  0.28853  0.93644]                         \n",
      "[38.       0.03305  0.28625  0.93565]                         \n",
      "\n"
     ]
    }
   ],
   "source": [
    "data = ImageClassifierData.from_paths(PATH, tfms=tfms_from_model(arch, 350))\n",
    "learn = ConvLearner.pretrained(arch, data, precompute = True) #Precompute= false is ideal, should be done as this will create new image at each layer as weights are being calculated check\n",
    "learn.fit(.1, 3, cycle_len=3, cycle_mult=3)"
   ]
  },
  {
   "cell_type": "code",
   "execution_count": null,
   "metadata": {},
   "outputs": [],
   "source": [
    "learn.save('Acc_93')\n",
    "learn.load('Acc_93')"
   ]
  },
  {
   "cell_type": "code",
   "execution_count": 30,
   "metadata": {},
   "outputs": [
    {
     "data": {
      "text/plain": [
       "array([[-12.64923, -12.11201, -11.97138, ..., -14.03503, -11.6909 , -12.71637],\n",
       "       [ -9.84844, -10.8201 ,  -8.21232, ..., -10.63231, -10.81662, -12.54858],\n",
       "       [-13.29932, -10.77245, -12.26993, ..., -12.60484, -12.46212, -12.18491],\n",
       "       ...,\n",
       "       [-12.26187, -12.26645, -13.58498, ..., -13.20731, -11.84592, -14.0061 ],\n",
       "       [-10.57263, -11.66389, -12.83298, ...,  -7.58437,  -8.07069, -10.03744],\n",
       "       [-10.52373, -10.30915,  -9.88855, ...,  -8.32233,  -8.57796, -10.16378]], dtype=float32)"
      ]
     },
     "execution_count": 30,
     "metadata": {},
     "output_type": "execute_result"
    }
   ],
   "source": [
    "learn.predict(is_test = True)"
   ]
  },
  {
   "cell_type": "code",
   "execution_count": 31,
   "metadata": {},
   "outputs": [
    {
     "name": "stdout",
     "output_type": "stream",
     "text": [
      "CPU times: user 3.41 s, sys: 3.3 s, total: 6.71 s\n",
      "Wall time: 3.75 s\n",
      "[[-12.64923 -12.11201 -11.97138 ... -14.03503 -11.6909  -12.71637]\n",
      " [ -9.84844 -10.8201   -8.21232 ... -10.63231 -10.81662 -12.54858]\n",
      " [-13.29932 -10.77245 -12.26993 ... -12.60484 -12.46212 -12.18491]\n",
      " ...\n",
      " [-12.26187 -12.26645 -13.58498 ... -13.20731 -11.84592 -14.0061 ]\n",
      " [-10.57263 -11.66389 -12.83298 ...  -7.58437  -8.07069 -10.03744]\n",
      " [-10.52373 -10.30915  -9.88855 ...  -8.32233  -8.57796 -10.16378]]\n"
     ]
    }
   ],
   "source": [
    "%time log_preds,y=learn.TTA()\n",
    "test_preds=learn.predict(is_test=True)\n",
    "print (test_preds)"
   ]
  },
  {
   "cell_type": "code",
   "execution_count": 50,
   "metadata": {},
   "outputs": [
    {
     "data": {
      "text/plain": [
       "(10357, 121)"
      ]
     },
     "execution_count": 50,
     "metadata": {},
     "output_type": "execute_result"
    }
   ],
   "source": [
    "test_preds = np.exp(test_preds)\n",
    "test_preds.shape"
   ]
  },
  {
   "cell_type": "code",
   "execution_count": 52,
   "metadata": {},
   "outputs": [
    {
     "data": {
      "text/plain": [
       "0.008264462"
      ]
     },
     "execution_count": 52,
     "metadata": {},
     "output_type": "execute_result"
    }
   ],
   "source": [
    "preds = np.mean(np.exp(log_preds),axis = 0)\n",
    "preds"
   ]
  },
  {
   "cell_type": "code",
   "execution_count": 53,
   "metadata": {},
   "outputs": [],
   "source": [
    "# Create the submission file using the probabilities\n",
    "# Get a list of image file names from the test data loader\n",
    "im_fnames = data.test_dl.dataset.fnames"
   ]
  },
  {
   "cell_type": "code",
   "execution_count": 54,
   "metadata": {},
   "outputs": [],
   "source": [
    "# We need to control the order of our predictions - it is not the same as in sample_submission.csv file. Order of categories is the same because it's in alphabetical order.\n",
    "test_df = pd.DataFrame(test_preds)"
   ]
  },
  {
   "cell_type": "code",
   "execution_count": 60,
   "metadata": {},
   "outputs": [],
   "source": [
    " #Here's how to get those predictions into a csv file for submitting. For more, refer to this Kaggle kernel: https://www.kaggle.com/orangutan/keras-vgg19-starter\n",
    "sample_sub_csv = f'{PATH}sample_submission.csv'\n",
    "df_sample_sub = pd.read_csv(sample_sub_csv, index_col=None)# here index_col = 'id' is changed from index_col= 'id' as it was returing one column less\n",
    "\n",
    "# Get column names from sample_submission.csv\n",
    "sub_columns = df_sample_sub.columns\n",
    "\n",
    "# Sanity check - print first 3 rows of test preds pandas dataframe.\n",
    "test_df.head(n=3)\n",
    "\n",
    "final_df = test_df\n",
    "\n",
    "# Assign column names from sample submission into the final submission df.\n",
    "final_df.columns = sub_columns\n",
    "\n",
    "# Get the image file names from test set\n",
    "test_fnames = [i.split('.jpg')[0].split('/')[-1] for i in data.test_dl.dataset.fnames]\n",
    "\n",
    "# Set the final submission df index column (id) values using the test set file names\n",
    "final_df.index = test_fnames\n",
    "final_df.index.name = 'id' # set index column name\n",
    "\n",
    "# Save final submission dataframe to CSV file.\n",
    "final_df.to_csv(PATH + 'submission_inception_6march.csv', index=True)"
   ]
  },
  {
   "cell_type": "code",
   "execution_count": 61,
   "metadata": {},
   "outputs": [
    {
     "data": {
      "text/plain": [
       "array([[1.     , 1.00001, 1.00001, ..., 1.     , 1.00001, 1.     ],\n",
       "       [1.00005, 1.00002, 1.00027, ..., 1.00002, 1.00002, 1.     ],\n",
       "       [1.     , 1.00002, 1.     , ..., 1.     , 1.     , 1.00001],\n",
       "       ...,\n",
       "       [1.     , 1.     , 1.     , ..., 1.     , 1.00001, 1.     ],\n",
       "       [1.00003, 1.00001, 1.     , ..., 1.00051, 1.00031, 1.00004],\n",
       "       [1.00003, 1.00003, 1.00005, ..., 1.00024, 1.00019, 1.00004]], dtype=float32)"
      ]
     },
     "execution_count": 61,
     "metadata": {},
     "output_type": "execute_result"
    }
   ],
   "source": [
    "test_preds"
   ]
  },
  {
   "cell_type": "code",
   "execution_count": 63,
   "metadata": {},
   "outputs": [
    {
     "data": {
      "text/plain": [
       "0.008264462"
      ]
     },
     "execution_count": 63,
     "metadata": {},
     "output_type": "execute_result"
    }
   ],
   "source": [
    "preds"
   ]
  },
  {
   "cell_type": "code",
   "execution_count": null,
   "metadata": {},
   "outputs": [],
   "source": []
  }
 ],
 "metadata": {
  "kernelspec": {
   "display_name": "Python 3",
   "language": "python",
   "name": "python3"
  },
  "language_info": {
   "codemirror_mode": {
    "name": "ipython",
    "version": 3
   },
   "file_extension": ".py",
   "mimetype": "text/x-python",
   "name": "python",
   "nbconvert_exporter": "python",
   "pygments_lexer": "ipython3",
   "version": "3.6.4"
  }
 },
 "nbformat": 4,
 "nbformat_minor": 2
}
