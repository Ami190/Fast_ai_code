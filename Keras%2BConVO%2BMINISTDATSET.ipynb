{
 "cells": [
  {
   "cell_type": "code",
   "execution_count": 49,
   "metadata": {},
   "outputs": [],
   "source": [
    "import numpy as np # linear algebra\n",
    "import pandas as pd # data processing, csv file I/O\n",
    "import math\n",
    "\n",
    "from keras import *\n",
    "from keras.models import Sequential\n",
    "from keras.layers.core import Dense, Dropout, Lambda, Flatten, Reshape\n",
    "from keras.layers.convolutional import Conv2D, ZeroPadding2D\n",
    "from keras.layers.pooling import MaxPooling2D\n",
    "from keras.layers.normalization import BatchNormalization\n",
    "from keras.regularizers import l2\n",
    "from keras.preprocessing.image import ImageDataGenerator\n",
    "from keras.utils.np_utils import to_categorical\n",
    "\n",
    "from sklearn.model_selection import train_test_split\n",
    "from sklearn.utils import shuffle\n",
    "\n",
    "import matplotlib\n",
    "import seaborn as sns\n",
    "%matplotlib inline"
   ]
  },
  {
   "cell_type": "code",
   "execution_count": 2,
   "metadata": {
    "collapsed": true
   },
   "outputs": [],
   "source": [
    "Input_file = 'G:/fashion-mnist_train.csv'\n",
    "df_train = pd.read_csv(Input_file)"
   ]
  },
  {
   "cell_type": "code",
   "execution_count": 3,
   "metadata": {},
   "outputs": [
    {
     "name": "stdout",
     "output_type": "stream",
     "text": [
      "<class 'pandas.core.frame.DataFrame'>\n",
      "RangeIndex: 60000 entries, 0 to 59999\n",
      "Columns: 785 entries, label to pixel784\n",
      "dtypes: int64(785)\n",
      "memory usage: 359.3 MB\n",
      "Training data: None\n",
      "       label  pixel1  pixel2  pixel3  pixel4  pixel5  pixel6  pixel7  pixel8  \\\n",
      "0          2       0       0       0       0       0       0       0       0   \n",
      "1          9       0       0       0       0       0       0       0       0   \n",
      "2          6       0       0       0       0       0       0       0       5   \n",
      "3          0       0       0       0       1       2       0       0       0   \n",
      "4          3       0       0       0       0       0       0       0       0   \n",
      "5          4       0       0       0       5       4       5       5       3   \n",
      "6          4       0       0       0       0       0       0       0       0   \n",
      "7          5       0       0       0       0       0       0       0       0   \n",
      "8          4       0       0       0       0       0       0       3       2   \n",
      "9          8       0       0       0       0       0       0       0       0   \n",
      "10         0       0       0       0       0       1       0       0       0   \n",
      "11         8       0       0       0       0       0       0       0       0   \n",
      "12         9       0       0       0       0       0       0       0       0   \n",
      "13         0       0       0       0       0       0       0       0       0   \n",
      "14         2       0       0       0       0       1       1       0       0   \n",
      "15         2       0       0       0       0       0       0       0       0   \n",
      "16         9       0       0       0       0       0       0       0       0   \n",
      "17         3       0       0       0       0       0       0       0       0   \n",
      "18         3       0       0       0       0       0       0       0       0   \n",
      "19         3       0       0       0       0       0       0       0       0   \n",
      "20         8       0       0       0       0       0       0       0       0   \n",
      "21         7       0       0       0       0       0       0       0       0   \n",
      "22         4       0       0       0       0       0       0       0       0   \n",
      "23         4       0       0       0       0       0       1       0       1   \n",
      "24         0       0       0       0       0       0       0       0       0   \n",
      "25         4       0       0       0       0       2       0       0       0   \n",
      "26         4       0       0       0       0       0       0       0       1   \n",
      "27         8       0       0       0       0       0       0       0       1   \n",
      "28         7       0       0       0       0       0       0       0       0   \n",
      "29         1       0       0       0       0       0       0       0       0   \n",
      "...      ...     ...     ...     ...     ...     ...     ...     ...     ...   \n",
      "59970      7       0       0       0       0       0       0       0       0   \n",
      "59971      5       0       0       0       0       0       0       0       0   \n",
      "59972      2       0       0       0       0       0       0       0       0   \n",
      "59973      8       0       0       0       0       0       0       0       0   \n",
      "59974      7       0       0       0       0       0       0       0       0   \n",
      "59975      9       0       0       0       0       0       0       0       0   \n",
      "59976      5       0       0       0       0       0       0       0       0   \n",
      "59977      8       0       0       0       0       0       0       0       0   \n",
      "59978      6       0       0       0       0       0       0       0       0   \n",
      "59979      5       0       0       0       0       0       0       0       0   \n",
      "59980      0       0       0       0       2       0       0       0       0   \n",
      "59981      5       0       0       0       0       0       0       0       0   \n",
      "59982      5       0       0       0       0       0       0       0       0   \n",
      "59983      5       0       0       0       0       0       0       0       0   \n",
      "59984      7       0       0       0       0       0       0       0       0   \n",
      "59985      6       0       0       0       0       0       0       0       0   \n",
      "59986      6       0       0       0       0       0       0       0       0   \n",
      "59987      5       0       0       0       0       0       0       0       0   \n",
      "59988      5       0       0       0       0       0       0       0       0   \n",
      "59989      4       0       0       0       0       0       0       0       0   \n",
      "59990      0       0       0       0       0       0       0       0       0   \n",
      "59991      5       0       0       0       0       0       0       0       0   \n",
      "59992      5       0       0       0       0       0       0       0       0   \n",
      "59993      2       0       0       0       0       0       0       1       0   \n",
      "59994      9       0       0       0       0       0       0       0       0   \n",
      "59995      9       0       0       0       0       0       0       0       0   \n",
      "59996      1       0       0       0       0       0       0       0       0   \n",
      "59997      8       0       0       0       0       0       0       0       0   \n",
      "59998      8       0       0       0       0       0       0       0       0   \n",
      "59999      7       0       0       0       0       0       0       0       0   \n",
      "\n",
      "       pixel9    ...     pixel775  pixel776  pixel777  pixel778  pixel779  \\\n",
      "0           0    ...            0         0         0         0         0   \n",
      "1           0    ...            0         0         0         0         0   \n",
      "2           0    ...            0         0         0        30        43   \n",
      "3           0    ...            3         0         0         0         0   \n",
      "4           0    ...            0         0         0         0         0   \n",
      "5           5    ...            7         8         7         4         3   \n",
      "6           0    ...           14         0         0         0         0   \n",
      "7           0    ...            0         0         0         0         0   \n",
      "8           0    ...            1         0         0         0         0   \n",
      "9           0    ...          203       214       166         0         0   \n",
      "10          0    ...          164       177       163         0         0   \n",
      "11          0    ...            9        10         9         9         8   \n",
      "12          0    ...            0         0         0         0         0   \n",
      "13          0    ...            0         0         0         0         0   \n",
      "14          0    ...            0         0       118       190       162   \n",
      "15         16    ...            0         0         1         1         1   \n",
      "16          0    ...            0         0         0         0         0   \n",
      "17          0    ...          101        20         0         0         1   \n",
      "18          0    ...            0        11        15         0         0   \n",
      "19          0    ...            0         0         0         0         0   \n",
      "20          0    ...           80        73        62        37        16   \n",
      "21          0    ...            0         0         0         0         0   \n",
      "22          0    ...           69         0         0         2         0   \n",
      "23          0    ...            0         0         2         0        61   \n",
      "24         40    ...          125        93        87        49         0   \n",
      "25          1    ...            4         1         0         7       166   \n",
      "26          0    ...          153        45         0         0         0   \n",
      "27          0    ...           15        23        10        19        21   \n",
      "28          0    ...            0         0         0         0         0   \n",
      "29          0    ...            0         1         0         0         0   \n",
      "...       ...    ...          ...       ...       ...       ...       ...   \n",
      "59970       0    ...            0         0         0         0         0   \n",
      "59971       0    ...            0         0         0         0         0   \n",
      "59972       0    ...            0         0         0         0         0   \n",
      "59973       0    ...            0         0         0         0         0   \n",
      "59974       0    ...            0         0         0         0         0   \n",
      "59975       0    ...            0         0         0         0         0   \n",
      "59976       0    ...            0         0         0         0         0   \n",
      "59977       0    ...            0         0         0         0         0   \n",
      "59978       0    ...            0         0         0         0         1   \n",
      "59979       0    ...            0         0         0         0         0   \n",
      "59980       0    ...           37        25         9         0         0   \n",
      "59981       0    ...            0         0         0         0         0   \n",
      "59982       0    ...           61        58        70       115       114   \n",
      "59983       0    ...            0         0         0         0         0   \n",
      "59984       0    ...            0         0         0         0         0   \n",
      "59985       0    ...            0         0         0         0         0   \n",
      "59986       0    ...            0         0         0         0        20   \n",
      "59987       0    ...            0         0         0         0         0   \n",
      "59988       0    ...            0         0         0         0         0   \n",
      "59989       0    ...          122       131        25         0         0   \n",
      "59990       0    ...          154       161       165        83         0   \n",
      "59991       0    ...            0         0         0         0         0   \n",
      "59992       0    ...            0         0         0         0         0   \n",
      "59993       0    ...            0         0         0         0       141   \n",
      "59994       0    ...            0         0         0         0         0   \n",
      "59995       0    ...            0         0         0         0         0   \n",
      "59996       0    ...           73         0         0         0         0   \n",
      "59997       0    ...          160       162       163       135        94   \n",
      "59998       0    ...            0         0         0         0         0   \n",
      "59999       0    ...            0         0         0         0         0   \n",
      "\n",
      "       pixel780  pixel781  pixel782  pixel783  pixel784  \n",
      "0             0         0         0         0         0  \n",
      "1             0         0         0         0         0  \n",
      "2             0         0         0         0         0  \n",
      "3             1         0         0         0         0  \n",
      "4             0         0         0         0         0  \n",
      "5             7         5         0         0         0  \n",
      "6             0         0         0         0         0  \n",
      "7             0         0         0         0         0  \n",
      "8             0         0         0         0         0  \n",
      "9             0         0         0         0         0  \n",
      "10            1         0         0         0         0  \n",
      "11            1         0         0         0         0  \n",
      "12            0         0         0         0         0  \n",
      "13            0         1         0         0         0  \n",
      "14           82         0         0         0         0  \n",
      "15            1         0         0         0         0  \n",
      "16            0         0         0         0         0  \n",
      "17            0         0         0         0         0  \n",
      "18            0         0         0         0         0  \n",
      "19            0         0         0         0         0  \n",
      "20            0         0         0         0         0  \n",
      "21            0         0         0         0         0  \n",
      "22            0         0         0         0         0  \n",
      "23          142        69        97         0         0  \n",
      "24            0         0         0         0         0  \n",
      "25          165        89         0         0         0  \n",
      "26            0         0         0         0         0  \n",
      "27           41        78         6         0         0  \n",
      "28            0         0         0         0         0  \n",
      "29            0         0         0         0         0  \n",
      "...         ...       ...       ...       ...       ...  \n",
      "59970         0         0         0         0         0  \n",
      "59971         0         0         0         0         0  \n",
      "59972         0         0         0         0         0  \n",
      "59973         0         0         0         0         0  \n",
      "59974         0         0         0         0         0  \n",
      "59975         0         0         0         0         0  \n",
      "59976         0         0         0         0         0  \n",
      "59977         0         0         0         0         0  \n",
      "59978         0         0         0         0         0  \n",
      "59979         0         0         0         0         0  \n",
      "59980         0         0         0         0         0  \n",
      "59981         0         0         0         0         0  \n",
      "59982       132        73         0         0         0  \n",
      "59983         0         0         0         0         0  \n",
      "59984         0         0         0         0         0  \n",
      "59985         0         0         0         0         0  \n",
      "59986       126       124        27         0         0  \n",
      "59987         0         0         0         0         0  \n",
      "59988         0         0         0         0         0  \n",
      "59989         0         0         0         0         0  \n",
      "59990         5         0         0         0         0  \n",
      "59991         0         0         0         0         0  \n",
      "59992         0         0         0         0         0  \n",
      "59993       113         9         0         0         0  \n",
      "59994         0         0         0         0         0  \n",
      "59995         0         0         0         0         0  \n",
      "59996         0         0         0         0         0  \n",
      "59997         0         0         0         0         0  \n",
      "59998         0         0         0         0         0  \n",
      "59999         0         0         0         0         0  \n",
      "\n",
      "[60000 rows x 785 columns]\n"
     ]
    }
   ],
   "source": [
    "print('Training data:', df_train.info())\n",
    "print(df_train)"
   ]
  },
  {
   "cell_type": "code",
   "execution_count": 7,
   "metadata": {},
   "outputs": [
    {
     "name": "stdout",
     "output_type": "stream",
     "text": [
      "[[ 0.  0.  1. ...,  0.  0.  0.]\n",
      " [ 0.  0.  0. ...,  0.  0.  1.]\n",
      " [ 0.  0.  0. ...,  0.  0.  0.]\n",
      " ..., \n",
      " [ 0.  0.  0. ...,  0.  1.  0.]\n",
      " [ 0.  0.  0. ...,  0.  1.  0.]\n",
      " [ 0.  0.  0. ...,  1.  0.  0.]]\n"
     ]
    }
   ],
   "source": [
    "target = df_train['label'] # Separate the target/output values of 'lable/classes' \n",
    "y = to_categorical(target) # Storing in y as output vector with index of image and what class it belong to\n",
    "y.shape # 60000 records with its categorical values\n",
    "print(y)"
   ]
  },
  {
   "cell_type": "code",
   "execution_count": 10,
   "metadata": {},
   "outputs": [
    {
     "name": "stdout",
     "output_type": "stream",
     "text": [
      "       pixel1  pixel2  pixel3  pixel4  pixel5  pixel6  pixel7  pixel8  pixel9  \\\n",
      "0           0       0       0       0       0       0       0       0       0   \n",
      "1           0       0       0       0       0       0       0       0       0   \n",
      "2           0       0       0       0       0       0       0       5       0   \n",
      "3           0       0       0       1       2       0       0       0       0   \n",
      "4           0       0       0       0       0       0       0       0       0   \n",
      "5           0       0       0       5       4       5       5       3       5   \n",
      "6           0       0       0       0       0       0       0       0       0   \n",
      "7           0       0       0       0       0       0       0       0       0   \n",
      "8           0       0       0       0       0       0       3       2       0   \n",
      "9           0       0       0       0       0       0       0       0       0   \n",
      "10          0       0       0       0       1       0       0       0       0   \n",
      "11          0       0       0       0       0       0       0       0       0   \n",
      "12          0       0       0       0       0       0       0       0       0   \n",
      "13          0       0       0       0       0       0       0       0       0   \n",
      "14          0       0       0       0       1       1       0       0       0   \n",
      "15          0       0       0       0       0       0       0       0      16   \n",
      "16          0       0       0       0       0       0       0       0       0   \n",
      "17          0       0       0       0       0       0       0       0       0   \n",
      "18          0       0       0       0       0       0       0       0       0   \n",
      "19          0       0       0       0       0       0       0       0       0   \n",
      "20          0       0       0       0       0       0       0       0       0   \n",
      "21          0       0       0       0       0       0       0       0       0   \n",
      "22          0       0       0       0       0       0       0       0       0   \n",
      "23          0       0       0       0       0       1       0       1       0   \n",
      "24          0       0       0       0       0       0       0       0      40   \n",
      "25          0       0       0       0       2       0       0       0       1   \n",
      "26          0       0       0       0       0       0       0       1       0   \n",
      "27          0       0       0       0       0       0       0       1       0   \n",
      "28          0       0       0       0       0       0       0       0       0   \n",
      "29          0       0       0       0       0       0       0       0       0   \n",
      "...       ...     ...     ...     ...     ...     ...     ...     ...     ...   \n",
      "59970       0       0       0       0       0       0       0       0       0   \n",
      "59971       0       0       0       0       0       0       0       0       0   \n",
      "59972       0       0       0       0       0       0       0       0       0   \n",
      "59973       0       0       0       0       0       0       0       0       0   \n",
      "59974       0       0       0       0       0       0       0       0       0   \n",
      "59975       0       0       0       0       0       0       0       0       0   \n",
      "59976       0       0       0       0       0       0       0       0       0   \n",
      "59977       0       0       0       0       0       0       0       0       0   \n",
      "59978       0       0       0       0       0       0       0       0       0   \n",
      "59979       0       0       0       0       0       0       0       0       0   \n",
      "59980       0       0       0       2       0       0       0       0       0   \n",
      "59981       0       0       0       0       0       0       0       0       0   \n",
      "59982       0       0       0       0       0       0       0       0       0   \n",
      "59983       0       0       0       0       0       0       0       0       0   \n",
      "59984       0       0       0       0       0       0       0       0       0   \n",
      "59985       0       0       0       0       0       0       0       0       0   \n",
      "59986       0       0       0       0       0       0       0       0       0   \n",
      "59987       0       0       0       0       0       0       0       0       0   \n",
      "59988       0       0       0       0       0       0       0       0       0   \n",
      "59989       0       0       0       0       0       0       0       0       0   \n",
      "59990       0       0       0       0       0       0       0       0       0   \n",
      "59991       0       0       0       0       0       0       0       0       0   \n",
      "59992       0       0       0       0       0       0       0       0       0   \n",
      "59993       0       0       0       0       0       0       1       0       0   \n",
      "59994       0       0       0       0       0       0       0       0       0   \n",
      "59995       0       0       0       0       0       0       0       0       0   \n",
      "59996       0       0       0       0       0       0       0       0       0   \n",
      "59997       0       0       0       0       0       0       0       0       0   \n",
      "59998       0       0       0       0       0       0       0       0       0   \n",
      "59999       0       0       0       0       0       0       0       0       0   \n",
      "\n",
      "       pixel10    ...     pixel775  pixel776  pixel777  pixel778  pixel779  \\\n",
      "0            0    ...            0         0         0         0         0   \n",
      "1            0    ...            0         0         0         0         0   \n",
      "2            0    ...            0         0         0        30        43   \n",
      "3            0    ...            3         0         0         0         0   \n",
      "4            0    ...            0         0         0         0         0   \n",
      "5            6    ...            7         8         7         4         3   \n",
      "6            0    ...           14         0         0         0         0   \n",
      "7            0    ...            0         0         0         0         0   \n",
      "8            0    ...            1         0         0         0         0   \n",
      "9            0    ...          203       214       166         0         0   \n",
      "10          41    ...          164       177       163         0         0   \n",
      "11           0    ...            9        10         9         9         8   \n",
      "12           0    ...            0         0         0         0         0   \n",
      "13           0    ...            0         0         0         0         0   \n",
      "14           0    ...            0         0       118       190       162   \n",
      "15          43    ...            0         0         1         1         1   \n",
      "16           0    ...            0         0         0         0         0   \n",
      "17           0    ...          101        20         0         0         1   \n",
      "18          38    ...            0        11        15         0         0   \n",
      "19           0    ...            0         0         0         0         0   \n",
      "20           0    ...           80        73        62        37        16   \n",
      "21           0    ...            0         0         0         0         0   \n",
      "22           0    ...           69         0         0         2         0   \n",
      "23           0    ...            0         0         2         0        61   \n",
      "24         122    ...          125        93        87        49         0   \n",
      "25           0    ...            4         1         0         7       166   \n",
      "26           0    ...          153        45         0         0         0   \n",
      "27           0    ...           15        23        10        19        21   \n",
      "28           0    ...            0         0         0         0         0   \n",
      "29         171    ...            0         1         0         0         0   \n",
      "...        ...    ...          ...       ...       ...       ...       ...   \n",
      "59970        0    ...            0         0         0         0         0   \n",
      "59971        0    ...            0         0         0         0         0   \n",
      "59972        0    ...            0         0         0         0         0   \n",
      "59973        0    ...            0         0         0         0         0   \n",
      "59974        0    ...            0         0         0         0         0   \n",
      "59975        0    ...            0         0         0         0         0   \n",
      "59976        0    ...            0         0         0         0         0   \n",
      "59977        0    ...            0         0         0         0         0   \n",
      "59978       80    ...            0         0         0         0         1   \n",
      "59979        0    ...            0         0         0         0         0   \n",
      "59980        3    ...           37        25         9         0         0   \n",
      "59981        0    ...            0         0         0         0         0   \n",
      "59982        0    ...           61        58        70       115       114   \n",
      "59983        0    ...            0         0         0         0         0   \n",
      "59984        0    ...            0         0         0         0         0   \n",
      "59985        0    ...            0         0         0         0         0   \n",
      "59986        3    ...            0         0         0         0        20   \n",
      "59987        0    ...            0         0         0         0         0   \n",
      "59988        0    ...            0         0         0         0         0   \n",
      "59989       35    ...          122       131        25         0         0   \n",
      "59990        1    ...          154       161       165        83         0   \n",
      "59991        0    ...            0         0         0         0         0   \n",
      "59992        0    ...            0         0         0         0         0   \n",
      "59993        0    ...            0         0         0         0       141   \n",
      "59994        0    ...            0         0         0         0         0   \n",
      "59995        0    ...            0         0         0         0         0   \n",
      "59996        0    ...           73         0         0         0         0   \n",
      "59997        0    ...          160       162       163       135        94   \n",
      "59998        0    ...            0         0         0         0         0   \n",
      "59999        0    ...            0         0         0         0         0   \n",
      "\n",
      "       pixel780  pixel781  pixel782  pixel783  pixel784  \n",
      "0             0         0         0         0         0  \n",
      "1             0         0         0         0         0  \n",
      "2             0         0         0         0         0  \n",
      "3             1         0         0         0         0  \n",
      "4             0         0         0         0         0  \n",
      "5             7         5         0         0         0  \n",
      "6             0         0         0         0         0  \n",
      "7             0         0         0         0         0  \n",
      "8             0         0         0         0         0  \n",
      "9             0         0         0         0         0  \n",
      "10            1         0         0         0         0  \n",
      "11            1         0         0         0         0  \n",
      "12            0         0         0         0         0  \n",
      "13            0         1         0         0         0  \n",
      "14           82         0         0         0         0  \n",
      "15            1         0         0         0         0  \n",
      "16            0         0         0         0         0  \n",
      "17            0         0         0         0         0  \n",
      "18            0         0         0         0         0  \n",
      "19            0         0         0         0         0  \n",
      "20            0         0         0         0         0  \n",
      "21            0         0         0         0         0  \n",
      "22            0         0         0         0         0  \n",
      "23          142        69        97         0         0  \n",
      "24            0         0         0         0         0  \n",
      "25          165        89         0         0         0  \n",
      "26            0         0         0         0         0  \n",
      "27           41        78         6         0         0  \n",
      "28            0         0         0         0         0  \n",
      "29            0         0         0         0         0  \n",
      "...         ...       ...       ...       ...       ...  \n",
      "59970         0         0         0         0         0  \n",
      "59971         0         0         0         0         0  \n",
      "59972         0         0         0         0         0  \n",
      "59973         0         0         0         0         0  \n",
      "59974         0         0         0         0         0  \n",
      "59975         0         0         0         0         0  \n",
      "59976         0         0         0         0         0  \n",
      "59977         0         0         0         0         0  \n",
      "59978         0         0         0         0         0  \n",
      "59979         0         0         0         0         0  \n",
      "59980         0         0         0         0         0  \n",
      "59981         0         0         0         0         0  \n",
      "59982       132        73         0         0         0  \n",
      "59983         0         0         0         0         0  \n",
      "59984         0         0         0         0         0  \n",
      "59985         0         0         0         0         0  \n",
      "59986       126       124        27         0         0  \n",
      "59987         0         0         0         0         0  \n",
      "59988         0         0         0         0         0  \n",
      "59989         0         0         0         0         0  \n",
      "59990         5         0         0         0         0  \n",
      "59991         0         0         0         0         0  \n",
      "59992         0         0         0         0         0  \n",
      "59993       113         9         0         0         0  \n",
      "59994         0         0         0         0         0  \n",
      "59995         0         0         0         0         0  \n",
      "59996         0         0         0         0         0  \n",
      "59997         0         0         0         0         0  \n",
      "59998         0         0         0         0         0  \n",
      "59999         0         0         0         0         0  \n",
      "\n",
      "[60000 rows x 784 columns]\n"
     ]
    },
    {
     "data": {
      "text/plain": [
       "(60000, 784)"
      ]
     },
     "execution_count": 10,
     "metadata": {},
     "output_type": "execute_result"
    }
   ],
   "source": [
    "features = df_train.iloc[:,1:] # seperating the Input values of image with 784 features and leaving lables, now features contain exact total input data\n",
    "print(features)\n",
    "features.shape"
   ]
  },
  {
   "cell_type": "code",
   "execution_count": 11,
   "metadata": {},
   "outputs": [],
   "source": [
    "X_train, X_test, y_train,y_test = train_test_split(features,y, test_size=0.2, random_state=1)#splitting t data in 2 sets, features has all 60000 records splitting in 20% test and 80 % training\n",
    "#X_train contain 48000 rows and 784 features"
   ]
  },
  {
   "cell_type": "code",
   "execution_count": 12,
   "metadata": {},
   "outputs": [],
   "source": [
    "X_test, X_val, y_test, y_val = train_test_split(X_train,y_train, test_size=0.2, random_state=1)#splitting the data in 2 sets"
   ]
  },
  {
   "cell_type": "code",
   "execution_count": 15,
   "metadata": {},
   "outputs": [
    {
     "data": {
      "text/plain": [
       "(9600, 784)"
      ]
     },
     "execution_count": 15,
     "metadata": {},
     "output_type": "execute_result"
    }
   ],
   "source": [
    "X_val.shape"
   ]
  },
  {
   "cell_type": "code",
   "execution_count": 16,
   "metadata": {},
   "outputs": [
    {
     "name": "stdout",
     "output_type": "stream",
     "text": [
      "[[ 0.  0.  0. ...,  0.  0.  0.]\n",
      " [ 0.  0.  1. ...,  0.  0.  0.]\n",
      " [ 1.  0.  0. ...,  0.  0.  0.]\n",
      " ..., \n",
      " [ 0.  0.  0. ...,  0.  0.  0.]\n",
      " [ 0.  0.  0. ...,  1.  0.  0.]\n",
      " [ 0.  0.  0. ...,  0.  1.  0.]]\n"
     ]
    }
   ],
   "source": [
    "y_train.shape\n",
    "print(y_train)"
   ]
  },
  {
   "cell_type": "code",
   "execution_count": 17,
   "metadata": {},
   "outputs": [
    {
     "data": {
      "text/plain": [
       "(9600, 784)"
      ]
     },
     "execution_count": 17,
     "metadata": {},
     "output_type": "execute_result"
    }
   ],
   "source": [
    "X_val.shape"
   ]
  },
  {
   "cell_type": "code",
   "execution_count": 18,
   "metadata": {},
   "outputs": [
    {
     "name": "stdout",
     "output_type": "stream",
     "text": [
      "We've got 48000 feature rows and 48000 labels\n",
      "Each row has 784 features\n",
      "and we have 10 classes\n",
      "Input images have 28 x 28 px shape\n",
      "So far, so good\n"
     ]
    }
   ],
   "source": [
    "n_features = len(X_train.values[0])\n",
    "n_pixels =int (math.sqrt(n_features))\n",
    "n_classes = y_train.shape[1]\n",
    "print('We\\'ve got {} feature rows and {} labels'.format(len(X_train), len(y_train)))\n",
    "print('Each row has {} features'.format(len(X_train.values[0])))\n",
    "print('and we have {} classes'.format(n_classes))\n",
    "assert(len(y_train) == len(X_train))\n",
    "assert(len(X_train == len(X_test)))\n",
    "#assert(n_features == n_pixels**2)\n",
    "print('Input images have {0} x {0} px shape'.format(n_pixels))\n",
    "print('So far, so good')"
   ]
  },
  {
   "cell_type": "code",
   "execution_count": 19,
   "metadata": {},
   "outputs": [
    {
     "name": "stdout",
     "output_type": "stream",
     "text": [
      "X_train.shape: (43200, 28, 28, 1)\n",
      "y_train.shape: (43200, 10)\n",
      "X_valid.shape: (9600, 784)\n",
      "y_valid.shape: (9600, 10)\n",
      "X_test.shape: (38400, 28, 28, 1)\n"
     ]
    }
   ],
   "source": [
    "X_train = X_train.values.reshape(X_train.shape[0], n_pixels, n_pixels, 1)\n",
    "X_test = X_test.values.reshape(X_test.shape[0], n_pixels, n_pixels, 1)\n",
    "X_train, X_valid, y_train, y_valid = train_test_split(*shuffle(X_train, y_train), test_size=0.1)\n",
    "\n",
    "print('X_train.shape:', X_train.shape)\n",
    "print('y_train.shape:', y_train.shape)\n",
    "print('X_valid.shape:', X_val.shape)\n",
    "print('y_valid.shape:', y_val.shape)\n",
    "print('X_test.shape:', X_test.shape)"
   ]
  },
  {
   "cell_type": "code",
   "execution_count": 20,
   "metadata": {},
   "outputs": [],
   "source": [
    "#sns.distplot(df_train['label'].values, kde=False, vertical=False, bins=10)"
   ]
  },
  {
   "cell_type": "code",
   "execution_count": 51,
   "metadata": {},
   "outputs": [
    {
     "name": "stdout",
     "output_type": "stream",
     "text": [
      "_________________________________________________________________\n",
      "Layer (type)                 Output Shape              Param #   \n",
      "=================================================================\n",
      "conv2d_11 (Conv2D)           (None, 27, 27, 32)        160       \n",
      "_________________________________________________________________\n",
      "batch_normalization_16 (Batc (None, 27, 27, 32)        128       \n",
      "_________________________________________________________________\n",
      "max_pooling2d_6 (MaxPooling2 (None, 13, 13, 32)        0         \n",
      "_________________________________________________________________\n",
      "conv2d_12 (Conv2D)           (None, 11, 11, 32)        9248      \n",
      "_________________________________________________________________\n",
      "batch_normalization_17 (Batc (None, 11, 11, 32)        128       \n",
      "_________________________________________________________________\n",
      "flatten_6 (Flatten)          (None, 3872)              0         \n",
      "_________________________________________________________________\n",
      "dense_11 (Dense)             (None, 32)                123936    \n",
      "_________________________________________________________________\n",
      "batch_normalization_18 (Batc (None, 32)                128       \n",
      "_________________________________________________________________\n",
      "dense_12 (Dense)             (None, 10)                330       \n",
      "=================================================================\n",
      "Total params: 134,058\n",
      "Trainable params: 133,866\n",
      "Non-trainable params: 192\n",
      "_________________________________________________________________\n"
     ]
    }
   ],
   "source": [
    "def create_my_model(shape=(28, 28, 1)):\n",
    "    model = Sequential()\n",
    "    #model.add(Lambda(lambda x: x / 127.5 - 1.0, input_shape=shape))\n",
    "    \n",
    "    model.add(Conv2D(32, (2, 2), activation='relu',input_shape=shape))\n",
    "    model.add(BatchNormalization())\n",
    "    model.add(MaxPooling2D(pool_size=(2, 2)))\n",
    "    \n",
    "    model.add(Conv2D(32, (3, 3), activation='relu'))\n",
    "    model.add(BatchNormalization())\n",
    "  \n",
    "    \n",
    "    model.add(Flatten())\n",
    "    model.add(Dense(32, activation='relu'))\n",
    "    model.add(BatchNormalization())\n",
    "\n",
    "    model.add(Dense(n_classes, activation='softmax'))\n",
    "    \n",
    "    \n",
    "    model.compile(optimizer=optimizers.adam(lr=1e-4)  ,loss='categorical_crossentropy',metrics=['accuracy'] )\n",
    "    return model\n",
    "    \n",
    "model = create_my_model(shape=(n_pixels, n_pixels, 1))\n",
    "model.summary()"
   ]
  },
  {
   "cell_type": "code",
   "execution_count": 52,
   "metadata": {
    "collapsed": true
   },
   "outputs": [],
   "source": [
    "X_train, y_train = shuffle(X_train, y_train)\n",
    "X_valid, y_valid = shuffle(X_valid, y_valid)\n",
    "\n",
    "#imgen_train = ImageDataGenerator( rotation_range=20,width_shift_range=0.2, height_shift_range=0.2,shear_range=0.1, zoom_range=0.15,horizontal_flip=False,vertical_flip=False)\n",
    "imgen_train = ImageDataGenerator()\n",
    "imgen_valid = ImageDataGenerator()\n",
    "\n",
    "imgen_train.fit(X_train)\n",
    "imgen_valid.fit(X_valid)"
   ]
  },
  {
   "cell_type": "code",
   "execution_count": 53,
   "metadata": {},
   "outputs": [
    {
     "data": {
      "text/plain": [
       "[{'class_name': 'Conv2D',\n",
       "  'config': {'activation': 'relu',\n",
       "   'activity_regularizer': None,\n",
       "   'batch_input_shape': (None, 28, 28, 1),\n",
       "   'bias_constraint': None,\n",
       "   'bias_initializer': {'class_name': 'Zeros', 'config': {}},\n",
       "   'bias_regularizer': None,\n",
       "   'data_format': 'channels_last',\n",
       "   'dilation_rate': (1, 1),\n",
       "   'dtype': 'float32',\n",
       "   'filters': 32,\n",
       "   'kernel_constraint': None,\n",
       "   'kernel_initializer': {'class_name': 'VarianceScaling',\n",
       "    'config': {'distribution': 'uniform',\n",
       "     'mode': 'fan_avg',\n",
       "     'scale': 1.0,\n",
       "     'seed': None}},\n",
       "   'kernel_regularizer': None,\n",
       "   'kernel_size': (2, 2),\n",
       "   'name': 'conv2d_11',\n",
       "   'padding': 'valid',\n",
       "   'strides': (1, 1),\n",
       "   'trainable': True,\n",
       "   'use_bias': True}},\n",
       " {'class_name': 'BatchNormalization',\n",
       "  'config': {'axis': -1,\n",
       "   'beta_constraint': None,\n",
       "   'beta_initializer': {'class_name': 'Zeros', 'config': {}},\n",
       "   'beta_regularizer': None,\n",
       "   'center': True,\n",
       "   'epsilon': 0.001,\n",
       "   'gamma_constraint': None,\n",
       "   'gamma_initializer': {'class_name': 'Ones', 'config': {}},\n",
       "   'gamma_regularizer': None,\n",
       "   'momentum': 0.99,\n",
       "   'moving_mean_initializer': {'class_name': 'Zeros', 'config': {}},\n",
       "   'moving_variance_initializer': {'class_name': 'Ones', 'config': {}},\n",
       "   'name': 'batch_normalization_16',\n",
       "   'scale': True,\n",
       "   'trainable': True}},\n",
       " {'class_name': 'MaxPooling2D',\n",
       "  'config': {'data_format': 'channels_last',\n",
       "   'name': 'max_pooling2d_6',\n",
       "   'padding': 'valid',\n",
       "   'pool_size': (2, 2),\n",
       "   'strides': (2, 2),\n",
       "   'trainable': True}},\n",
       " {'class_name': 'Conv2D',\n",
       "  'config': {'activation': 'relu',\n",
       "   'activity_regularizer': None,\n",
       "   'bias_constraint': None,\n",
       "   'bias_initializer': {'class_name': 'Zeros', 'config': {}},\n",
       "   'bias_regularizer': None,\n",
       "   'data_format': 'channels_last',\n",
       "   'dilation_rate': (1, 1),\n",
       "   'filters': 32,\n",
       "   'kernel_constraint': None,\n",
       "   'kernel_initializer': {'class_name': 'VarianceScaling',\n",
       "    'config': {'distribution': 'uniform',\n",
       "     'mode': 'fan_avg',\n",
       "     'scale': 1.0,\n",
       "     'seed': None}},\n",
       "   'kernel_regularizer': None,\n",
       "   'kernel_size': (3, 3),\n",
       "   'name': 'conv2d_12',\n",
       "   'padding': 'valid',\n",
       "   'strides': (1, 1),\n",
       "   'trainable': True,\n",
       "   'use_bias': True}},\n",
       " {'class_name': 'BatchNormalization',\n",
       "  'config': {'axis': -1,\n",
       "   'beta_constraint': None,\n",
       "   'beta_initializer': {'class_name': 'Zeros', 'config': {}},\n",
       "   'beta_regularizer': None,\n",
       "   'center': True,\n",
       "   'epsilon': 0.001,\n",
       "   'gamma_constraint': None,\n",
       "   'gamma_initializer': {'class_name': 'Ones', 'config': {}},\n",
       "   'gamma_regularizer': None,\n",
       "   'momentum': 0.99,\n",
       "   'moving_mean_initializer': {'class_name': 'Zeros', 'config': {}},\n",
       "   'moving_variance_initializer': {'class_name': 'Ones', 'config': {}},\n",
       "   'name': 'batch_normalization_17',\n",
       "   'scale': True,\n",
       "   'trainable': True}},\n",
       " {'class_name': 'Flatten', 'config': {'name': 'flatten_6', 'trainable': True}},\n",
       " {'class_name': 'Dense',\n",
       "  'config': {'activation': 'relu',\n",
       "   'activity_regularizer': None,\n",
       "   'bias_constraint': None,\n",
       "   'bias_initializer': {'class_name': 'Zeros', 'config': {}},\n",
       "   'bias_regularizer': None,\n",
       "   'kernel_constraint': None,\n",
       "   'kernel_initializer': {'class_name': 'VarianceScaling',\n",
       "    'config': {'distribution': 'uniform',\n",
       "     'mode': 'fan_avg',\n",
       "     'scale': 1.0,\n",
       "     'seed': None}},\n",
       "   'kernel_regularizer': None,\n",
       "   'name': 'dense_11',\n",
       "   'trainable': True,\n",
       "   'units': 32,\n",
       "   'use_bias': True}},\n",
       " {'class_name': 'BatchNormalization',\n",
       "  'config': {'axis': -1,\n",
       "   'beta_constraint': None,\n",
       "   'beta_initializer': {'class_name': 'Zeros', 'config': {}},\n",
       "   'beta_regularizer': None,\n",
       "   'center': True,\n",
       "   'epsilon': 0.001,\n",
       "   'gamma_constraint': None,\n",
       "   'gamma_initializer': {'class_name': 'Ones', 'config': {}},\n",
       "   'gamma_regularizer': None,\n",
       "   'momentum': 0.99,\n",
       "   'moving_mean_initializer': {'class_name': 'Zeros', 'config': {}},\n",
       "   'moving_variance_initializer': {'class_name': 'Ones', 'config': {}},\n",
       "   'name': 'batch_normalization_18',\n",
       "   'scale': True,\n",
       "   'trainable': True}},\n",
       " {'class_name': 'Dense',\n",
       "  'config': {'activation': 'softmax',\n",
       "   'activity_regularizer': None,\n",
       "   'bias_constraint': None,\n",
       "   'bias_initializer': {'class_name': 'Zeros', 'config': {}},\n",
       "   'bias_regularizer': None,\n",
       "   'kernel_constraint': None,\n",
       "   'kernel_initializer': {'class_name': 'VarianceScaling',\n",
       "    'config': {'distribution': 'uniform',\n",
       "     'mode': 'fan_avg',\n",
       "     'scale': 1.0,\n",
       "     'seed': None}},\n",
       "   'kernel_regularizer': None,\n",
       "   'name': 'dense_12',\n",
       "   'trainable': True,\n",
       "   'units': 10,\n",
       "   'use_bias': True}}]"
      ]
     },
     "execution_count": 53,
     "metadata": {},
     "output_type": "execute_result"
    }
   ],
   "source": [
    "model.get_config()"
   ]
  },
  {
   "cell_type": "code",
   "execution_count": 54,
   "metadata": {},
   "outputs": [
    {
     "data": {
      "text/plain": [
       "{'activation': 'relu',\n",
       " 'activity_regularizer': None,\n",
       " 'batch_input_shape': (None, 28, 28, 1),\n",
       " 'bias_constraint': None,\n",
       " 'bias_initializer': {'class_name': 'Zeros', 'config': {}},\n",
       " 'bias_regularizer': None,\n",
       " 'data_format': 'channels_last',\n",
       " 'dilation_rate': (1, 1),\n",
       " 'dtype': 'float32',\n",
       " 'filters': 32,\n",
       " 'kernel_constraint': None,\n",
       " 'kernel_initializer': {'class_name': 'VarianceScaling',\n",
       "  'config': {'distribution': 'uniform',\n",
       "   'mode': 'fan_avg',\n",
       "   'scale': 1.0,\n",
       "   'seed': None}},\n",
       " 'kernel_regularizer': None,\n",
       " 'kernel_size': (2, 2),\n",
       " 'name': 'conv2d_11',\n",
       " 'padding': 'valid',\n",
       " 'strides': (1, 1),\n",
       " 'trainable': True,\n",
       " 'use_bias': True}"
      ]
     },
     "execution_count": 54,
     "metadata": {},
     "output_type": "execute_result"
    }
   ],
   "source": [
    "model.layers[0].get_config() # to get configuration of each layer"
   ]
  },
  {
   "cell_type": "code",
   "execution_count": 55,
   "metadata": {},
   "outputs": [
    {
     "data": {
      "text/plain": [
       "[array([[-0.02490543,  0.03461613,  0.02679034, ...,  0.02998577,\n",
       "          0.03859191,  0.02247213],\n",
       "        [-0.00388185, -0.02065638,  0.03461412, ..., -0.00560592,\n",
       "          0.00414197, -0.0090251 ],\n",
       "        [ 0.0268664 , -0.02417399, -0.03091028, ..., -0.00209845,\n",
       "         -0.01644573,  0.0246154 ],\n",
       "        ..., \n",
       "        [-0.02063824,  0.02556641,  0.01604617, ..., -0.01128889,\n",
       "          0.03053714, -0.02685054],\n",
       "        [ 0.0055113 ,  0.02140534, -0.03717655, ...,  0.03597895,\n",
       "          0.02381878,  0.00967168],\n",
       "        [-0.02379907,  0.02749325,  0.00878864, ..., -0.00520944,\n",
       "         -0.00453059,  0.0189425 ]], dtype=float32),\n",
       " array([ 0.,  0.,  0.,  0.,  0.,  0.,  0.,  0.,  0.,  0.,  0.,  0.,  0.,\n",
       "         0.,  0.,  0.,  0.,  0.,  0.,  0.,  0.,  0.,  0.,  0.,  0.,  0.,\n",
       "         0.,  0.,  0.,  0.,  0.,  0.], dtype=float32)]"
      ]
     },
     "execution_count": 55,
     "metadata": {},
     "output_type": "execute_result"
    }
   ],
   "source": [
    "model.layers[6].get_weights()"
   ]
  },
  {
   "cell_type": "code",
   "execution_count": 67,
   "metadata": {},
   "outputs": [
    {
     "name": "stdout",
     "output_type": "stream",
     "text": [
      "Epoch 1/6\n",
      "135/135 [==============================] - 45s 330ms/step - loss: 0.4580 - acc: 0.8583 - val_loss: 0.4183 - val_acc: 0.8668\n",
      "Epoch 2/6\n",
      "135/135 [==============================] - 45s 332ms/step - loss: 0.4256 - acc: 0.8656 - val_loss: 0.4108 - val_acc: 0.8668\n",
      "Epoch 3/6\n",
      "135/135 [==============================] - 45s 333ms/step - loss: 0.4135 - acc: 0.8678 - val_loss: 0.3837 - val_acc: 0.8797\n",
      "Epoch 4/6\n",
      "135/135 [==============================] - 44s 329ms/step - loss: 0.3828 - acc: 0.8777 - val_loss: 0.3616 - val_acc: 0.8871\n",
      "Epoch 5/6\n",
      "135/135 [==============================] - 45s 335ms/step - loss: 0.3440 - acc: 0.8873 - val_loss: 0.3515 - val_acc: 0.8879\n",
      "Epoch 6/6\n",
      "135/135 [==============================] - 46s 338ms/step - loss: 0.3385 - acc: 0.8886 - val_loss: 0.3365 - val_acc: 0.8910\n"
     ]
    }
   ],
   "source": [
    "EPOCHS =6 # actually needs to run for much longer to achieve the >99.4% validation accuracy I got\n",
    "BATCH = 80\n",
    "\n",
    "history = model.fit_generator(\n",
    "    imgen_train.flow(*shuffle(X_train, y_train), batch_size=BATCH),\n",
    "    steps_per_epoch=X_train.shape[0]//(4*BATCH),\n",
    "    epochs=EPOCHS,\n",
    "    validation_data=imgen_valid.flow(*shuffle(X_valid, y_valid)),\n",
    "    validation_steps=BATCH\n",
    ")"
   ]
  },
  {
   "cell_type": "code",
   "execution_count": 68,
   "metadata": {},
   "outputs": [],
   "source": [
    "prediction = model.predict(X_test)      #This will give you predictions for each test image"
   ]
  },
  {
   "cell_type": "code",
   "execution_count": 69,
   "metadata": {},
   "outputs": [
    {
     "name": "stdout",
     "output_type": "stream",
     "text": [
      "[[  9.03817650e-04   9.80773330e-01   4.85527940e-04 ...,   3.63449985e-03\n",
      "    1.92531361e-03   1.84335629e-03]\n",
      " [  5.02053052e-02   5.11569858e-01   1.16988132e-02 ...,   1.99568067e-02\n",
      "    7.67169613e-03   2.33402606e-02]\n",
      " [  3.55746830e-03   9.31636393e-01   2.88148620e-03 ...,   4.14767023e-03\n",
      "    9.95046925e-03   5.71444491e-03]\n",
      " ..., \n",
      " [  2.76925531e-03   6.13605604e-03   8.04937503e-04 ...,   7.59327948e-01\n",
      "    2.84945336e-03   2.08074570e-01]\n",
      " [  3.95110901e-03   9.16734047e-04   9.24964964e-01 ...,   1.66071067e-03\n",
      "    4.63849981e-04   1.53091084e-03]\n",
      " [  1.41189937e-02   6.48342120e-03   6.36871636e-01 ...,   1.04688909e-02\n",
      "    1.12603204e-02   9.59001109e-03]]\n",
      "Shape: (38400, 10)\n"
     ]
    }
   ],
   "source": [
    "print(prediction)\n",
    "print(\"Shape: {}\".format(prediction.shape))    # 10 probabilities for each 12000 images in x_test"
   ]
  },
  {
   "cell_type": "code",
   "execution_count": 70,
   "metadata": {},
   "outputs": [],
   "source": [
    "score = model.evaluate(X_test, y_test, verbose=0)      # This will take the highest probability and tell whether it matches with y_test"
   ]
  },
  {
   "cell_type": "code",
   "execution_count": 71,
   "metadata": {},
   "outputs": [
    {
     "name": "stdout",
     "output_type": "stream",
     "text": [
      "Test Loss: 0.31224554888904094 and Test accuracy: 0.8975\n"
     ]
    }
   ],
   "source": [
    "print(\"Test Loss: {} and Test accuracy: {}\".format(score[0],score[1]))"
   ]
  },
  {
   "cell_type": "code",
   "execution_count": 73,
   "metadata": {},
   "outputs": [
    {
     "data": {
      "text/plain": [
       "array([1, 1, 1, ..., 7, 2, 2], dtype=int64)"
      ]
     },
     "execution_count": 73,
     "metadata": {},
     "output_type": "execute_result"
    }
   ],
   "source": [
    "model.predict_classes(X_test)"
   ]
  },
  {
   "cell_type": "code",
   "execution_count": null,
   "metadata": {
    "collapsed": true
   },
   "outputs": [],
   "source": []
  }
 ],
 "metadata": {
  "kernelspec": {
   "display_name": "Python 3",
   "language": "python",
   "name": "python3"
  },
  "language_info": {
   "codemirror_mode": {
    "name": "ipython",
    "version": 3
   },
   "file_extension": ".py",
   "mimetype": "text/x-python",
   "name": "python",
   "nbconvert_exporter": "python",
   "pygments_lexer": "ipython3",
   "version": "3.6.3"
  }
 },
 "nbformat": 4,
 "nbformat_minor": 2
}
